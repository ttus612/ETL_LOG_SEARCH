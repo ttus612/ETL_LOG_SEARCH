{
 "cells": [
  {
   "cell_type": "code",
   "execution_count": 1,
   "metadata": {},
   "outputs": [],
   "source": [
    "import findspark\n",
    "findspark.init()\n",
    "\n",
    "import pyspark\n",
    "from pyspark.sql import SparkSession\n",
    "from pyspark.sql.functions import *\n",
    "from pyspark.context import SparkContext\n",
    "import pandas as pd\n",
    "from pyspark.sql.window import Window\n"
   ]
  },
  {
   "cell_type": "code",
   "execution_count": 2,
   "metadata": {},
   "outputs": [],
   "source": [
    "spark = SparkSession.builder.config(\"spark.driver.memory\", \"8g\").getOrCreate()"
   ]
  },
  {
   "cell_type": "code",
   "execution_count": 3,
   "metadata": {},
   "outputs": [],
   "source": [
    "path = \"D:\\\\WORKSPACE\\\\DE\\\\study_de\\\\Big_Data\\\\Items Shared on 4-29-2023\\\\Dataset\\\\log_search\\\\20220601\""
   ]
  },
  {
   "cell_type": "code",
   "execution_count": 4,
   "metadata": {},
   "outputs": [],
   "source": [
    "data = spark.read.parquet(path)"
   ]
  },
  {
   "cell_type": "code",
   "execution_count": 5,
   "metadata": {},
   "outputs": [
    {
     "name": "stdout",
     "output_type": "stream",
     "text": [
      "root\n",
      " |-- eventID: string (nullable = true)\n",
      " |-- datetime: string (nullable = true)\n",
      " |-- user_id: string (nullable = true)\n",
      " |-- keyword: string (nullable = true)\n",
      " |-- category: string (nullable = true)\n",
      " |-- proxy_isp: string (nullable = true)\n",
      " |-- platform: string (nullable = true)\n",
      " |-- networkType: string (nullable = true)\n",
      " |-- action: string (nullable = true)\n",
      " |-- userPlansMap: array (nullable = true)\n",
      " |    |-- element: string (containsNull = true)\n",
      "\n"
     ]
    }
   ],
   "source": [
    "data.printSchema()"
   ]
  },
  {
   "cell_type": "code",
   "execution_count": 6,
   "metadata": {},
   "outputs": [
    {
     "name": "stdout",
     "output_type": "stream",
     "text": [
      "+--------------------+--------------------+--------+--------------------+--------+---------+--------------------+-----------+------+--------------------+\n",
      "|             eventID|            datetime| user_id|             keyword|category|proxy_isp|            platform|networkType|action|        userPlansMap|\n",
      "+--------------------+--------------------+--------+--------------------+--------+---------+--------------------+-----------+------+--------------------+\n",
      "|61804316-6b89-4cf...|2022-06-01 18:59:...|    NULL|            trữ tình|   enter|     vnpt|   fplay-ottbox-2019|   ethernet|search|                NULL|\n",
      "|22c35287-9fe1-487...|2022-06-01 18:59:...|44887906|            trữ tình|   enter|     vnpt|   fplay-ottbox-2019|   ethernet|search|                  []|\n",
      "|f9af5a95-1f72-486...|2022-06-01 18:59:...| 2719170|              bolero|   enter|  viettel|   fplay-ottbox-2019|   ethernet|search|[Kênh Gia Đình:pr...|\n",
      "|fd53edee-132d-4ac...|2022-06-01 15:00:...|    NULL|amy schumer: trực...|   enter|     vnpt| smarttv-ceb-nextgen|       NULL|search|                NULL|\n",
      "|d51e6e6c-2765-4a8...|2022-06-01 19:00:...| 8830996|cậu mang à sĩ hanako|   enter|     vnpt|smarttv-sony-android|       wifi|search|[Kênh Gia Đình:pr...|\n",
      "|15bdaa4d-0c1e-452...|2022-06-01 19:00:...|    NULL|      Hoa trong bao |   enter|     vnpt|             android|       wifi|search|                NULL|\n",
      "|3948ea18-8c86-451...|2022-06-01 19:00:...|41559909|liên minh công lý...|   enter|     vnpt|     smart-tv-normal|       wifi|search|[Kênh Gia Đình:gi...|\n",
      "|25b5e49c-0488-4a7...|2022-06-01 19:00:...|92715770|                NULL|    quit|  viettel|     smart-tv-normal|       wifi|search|                  []|\n",
      "|89c4f55f-d8e0-4b6...|2022-06-01 19:00:...|49026196|    việt nam vs appa|    quit|     vnpt|             android|       wifi|search|                  []|\n",
      "|5098c3bf-c935-4b0...|2022-06-01 19:00:...|    NULL|chuyển sinh thành...|   enter|    other|     smart-tv-normal|       wifi|search|                NULL|\n",
      "|261329ee-9b91-47d...|2022-06-01 19:00:...|41376437|nhất kiến khuynh tâm|   enter|  viettel|smart-tv-normal-n...|       wifi|search|                  []|\n",
      "|9a31a703-ac4f-45e...|2022-06-01 19:00:...| 1254139|                giác|   enter|  viettel|         web-playfpt|       NULL|search|                  []|\n",
      "|bb7ac7cf-abc6-473...|2022-06-01 19:00:...|42534799|            nexsport|   enter|     vnpt|                 ios|       WIFI|search|[Kênh Quốc Tế:pro...|\n",
      "|9b94a851-a1db-446...|2022-06-01 19:00:...|49190631|Tìm kiếm bằng giọ...|   enter|     vnpt|smarttv-sony-android|   ethernet|search|                  []|\n",
      "|05533ed0-f901-455...|2022-06-01 19:00:...|    NULL|Lương Sơn Bá Chúc...|   enter|  viettel|     smart-tv-normal|   ethernet|search|                NULL|\n",
      "|68bcd92c-6156-421...|2022-06-01 19:00:...|91485275|một mảnh băng tâm...|    quit|     vnpt|             android|       wifi|search|                  []|\n",
      "|f917fc5b-5235-4dd...|2022-06-01 19:00:...|45282582|            sáng tạo|   enter|  viettel|fplay-ottbox-sei-...|       wifi|search|[Kênh Gia Đình:pr...|\n",
      "|649f963c-375c-498...|2022-06-01 19:00:...|41851691|                NULL|    quit|     vnpt| smarttv-tcl-android|       wifi|search|[Tắt quảng cáo:gi...|\n",
      "|4c7999d0-9939-4f0...|2022-06-01 19:03:...| 2599280|            truc tep|   enter|  viettel|             android|       wifi|search|                  []|\n",
      "|8b1c88c7-1d78-44f...|2022-06-01 19:01:...|41681697|                NULL|    quit|     vnpt| smarttv-tcl-android|       wifi|search|[MAX:direct, MAX ...|\n",
      "+--------------------+--------------------+--------+--------------------+--------+---------+--------------------+-----------+------+--------------------+\n",
      "only showing top 20 rows\n",
      "\n"
     ]
    }
   ],
   "source": [
    "data.show()"
   ]
  },
  {
   "cell_type": "code",
   "execution_count": 7,
   "metadata": {},
   "outputs": [],
   "source": [
    "def processing_data(data):\n",
    "    data = data.select(\"user_id\", \"keyword\")\n",
    "    data = data.groupBy(\"user_id\", \"keyword\").count()\n",
    "    data = data.withColumnRenamed(\"count\", \"search_count\").orderBy(\"search_count\", ascending=False)\n",
    "    window = Window.partitionBy(\"user_id\").orderBy(col(\"search_count\").desc())\n",
    "    data = data.withColumn(\"rank\", row_number().over(window))\n",
    "    data = data.filter(col(\"rank\") == 1)\n",
    "    data = data.withColumnRenamed(\"keyword\", \"Most_Search\")\n",
    "    data = data.select(col('user_id'), col('Most_Search'))\n",
    "    data = data.fillna({'Most_Search': 'trống','user_id': 'Chưa xác định'})\n",
    "    \n",
    "    return data"
   ]
  },
  {
   "cell_type": "code",
   "execution_count": 8,
   "metadata": {},
   "outputs": [
    {
     "name": "stdout",
     "output_type": "stream",
     "text": [
      "+--------------------+---------+\n",
      "|         Most_Search| Category|\n",
      "+--------------------+---------+\n",
      "|               trống|  UNKNOWN|\n",
      "|           du?ng h?m| Romantic|\n",
      "|    bong da viet nam|undefined|\n",
      "|           HUNTER XH|   Horror|\n",
      "|   phàm nhân tu tiên|  Science|\n",
      "|  bật thầy hoá trang|   Comedy|\n",
      "|        gã không mặt|   Action|\n",
      "|                 cây| Category|\n",
      "|Nhanh Và Nguy Hiểm 9|   Action|\n",
      "|          bé học chữ|   Comedy|\n",
      "|                   K|  K-DRAMA|\n",
      "|aikatsu - nhi?t h...|    Child|\n",
      "| c�ng t? chuy?n sinh|  K-DRAMA|\n",
      "|C� N�ng �?u B?p C...|   Comedy|\n",
      "|      phim lu?i tr?i| Romantic|\n",
      "|               anime|undefined|\n",
      "|     tien nu ha pham|    Anime|\n",
      "|chuy?n sinh th�nh...|   Action|\n",
      "| t�nh ngu?i duy�n ma|RealityTV|\n",
      "|             d� banh|   Horror|\n",
      "+--------------------+---------+\n",
      "only showing top 20 rows\n",
      "\n"
     ]
    }
   ],
   "source": [
    "data_key = spark.read.csv(\"D:\\\\WORKSPACE\\\\DE\\\\study_de\\\\Practice\\\\Class7\\\\ETL_MOST_SEARCH\\\\key_search.csv\", header=True)\n",
    "data_key.show()"
   ]
  },
  {
   "cell_type": "code",
   "execution_count": 9,
   "metadata": {},
   "outputs": [
    {
     "name": "stdout",
     "output_type": "stream",
     "text": [
      "+-------------+--------------------+-----------+\n",
      "|      User_ID|      Most_Search_T6|Category_T6|\n",
      "+-------------+--------------------+-----------+\n",
      "|Chưa xác định|               trống|    UNKNOWN|\n",
      "|      0003021|               trống|    UNKNOWN|\n",
      "|      0005063|                vtv5|      Sport|\n",
      "|      0005117|           YOUTUBIII|   TH-DRAMA|\n",
      "|      0005178|   bored to death s1|  RealityTV|\n",
      "|      0006773|                  30|      Child|\n",
      "|      0007729|              KUROKO|     Comedy|\n",
      "|      0007996|   phàm nhân tu tiên|    Science|\n",
      "|      0010414| bật thầy hoá trang |    UNKNOWN|\n",
      "|      0014661|        gã không mặt|     Action|\n",
      "|      0016455|                 cây|   Category|\n",
      "|      0017222|            BAO NGAM|     Action|\n",
      "|      0018591|Nhanh Và Nguy Hiểm 9|     Action|\n",
      "|      0022333|               trống|    UNKNOWN|\n",
      "|      0023968|          bé học chữ|     Comedy|\n",
      "|      0027338|          fairy tail|      Music|\n",
      "|      0027338|          fairy tail|    Science|\n",
      "|      0028131|                  on|     Comedy|\n",
      "|      0028131|                  on|      Music|\n",
      "|      0028736|    kimetsu no yaiba|     Comedy|\n",
      "+-------------+--------------------+-----------+\n",
      "only showing top 20 rows\n",
      "\n"
     ]
    },
    {
     "data": {
      "text/plain": [
       "82350"
      ]
     },
     "execution_count": 9,
     "metadata": {},
     "output_type": "execute_result"
    }
   ],
   "source": [
    "path = \"D:\\\\WORKSPACE\\\\DE\\\\study_de\\\\Big_Data\\\\Items Shared on 4-29-2023\\\\Dataset\\\\log_search\\\\20220601\"\n",
    "data_f_t6 = spark.read.parquet(path)\n",
    "data_p_t6 = processing_data(data_f_t6)\n",
    "data_p_t6 = data_p_t6.join(data_key, data_p_t6.Most_Search == data_key.Most_Search, how='left').drop(data_key.Most_Search)\n",
    "data_p_t6 = data_p_t6.fillna({'Category': 'UNKNOWN'})\n",
    "data_p_t6 = data_p_t6.withColumnRenamed(\"user_id\", \"User_ID\").withColumnRenamed(\"Most_Search\", \"Most_Search_T6\").withColumnRenamed(\"Category\", \"Category_T6\")\n",
    "data_p_t6.show()\n",
    "data_p_t6.count()"
   ]
  },
  {
   "cell_type": "code",
   "execution_count": 587,
   "metadata": {},
   "outputs": [
    {
     "name": "stdout",
     "output_type": "stream",
     "text": [
      "+-------------+--------------------+-----------+\n",
      "|      User_ID|      Most_Search_T7|Category_T7|\n",
      "+-------------+--------------------+-----------+\n",
      "|Chưa xác định|               trống|    UNKNOWN|\n",
      "|      0008153| thương ngày nắng về|    UNKNOWN|\n",
      "|      0008700|pháp y tần minh: ...|    UNKNOWN|\n",
      "|      0008802|      người ấy là ai|    UNKNOWN|\n",
      "|      0009576|          dữ quân ca|    UNKNOWN|\n",
      "|      0009683|  nàng vệ sĩ của tôi|    UNKNOWN|\n",
      "|      0010270|kênh truyền hình ...|    UNKNOWN|\n",
      "|      0011634|liên khúc con đườ...|    UNKNOWN|\n",
      "|      0012110|        vo tac thien|    C-DRAMA|\n",
      "|      0012401|boku no hero acad...|    V-DRAMA|\n",
      "|      0013823|boruto: naruto th...|     Comedy|\n",
      "|       001804|thế giới này khôn...|    UNKNOWN|\n",
      "|      0018346|           penthouse|    V-DRAMA|\n",
      "|      0018346|           penthouse|     Comedy|\n",
      "|      0023415| TAM QUOC  DIENNGHIA|    UNKNOWN|\n",
      "|      0024233|                   M|   Category|\n",
      "|      0025492|            hoàn hồn|    UNKNOWN|\n",
      "|      0026258|               trống|    UNKNOWN|\n",
      "|      0028736|                anya|    UNKNOWN|\n",
      "|      0029419|            why her?|     Horror|\n",
      "+-------------+--------------------+-----------+\n",
      "only showing top 20 rows\n",
      "\n"
     ]
    }
   ],
   "source": [
    "path = \"D:\\\\WORKSPACE\\\\DE\\\\study_de\\\\Big_Data\\\\Items Shared on 4-29-2023\\\\Dataset\\\\log_search\\\\20220701\"\n",
    "data_f_t7 = spark.read.parquet(path)\n",
    "data_p_t7 = processing_data(data_f_t7)\n",
    "data_p_t7 = data_p_t7.join(data_key, data_p_t7.Most_Search == data_key.Most_Search, how='left').drop(data_key.Most_Search)\n",
    "data_p_t7 = data_p_t7.fillna({'Category': 'UNKNOWN'})\n",
    "data_p_t7 = data_p_t7.withColumnRenamed(\"user_id\", \"User_ID\").withColumnRenamed(\"Most_Search\", \"Most_Search_T7\").withColumnRenamed(\"Category\", \"Category_T7\")\n",
    "data_p_t7.show()"
   ]
  },
  {
   "cell_type": "code",
   "execution_count": 588,
   "metadata": {},
   "outputs": [
    {
     "name": "stdout",
     "output_type": "stream",
     "text": [
      "+--------+--------------------+-----------+--------------------+-----------+\n",
      "| User_ID|      Most_Search_T6|Category_T6|      Most_Search_T7|Category_T7|\n",
      "+--------+--------------------+-----------+--------------------+-----------+\n",
      "|41752947|               trống|    UNKNOWN|               trống|    UNKNOWN|\n",
      "| 7316968|  chung kết việt nam|    UNKNOWN|sợi dây chuyền đị...|    UNKNOWN|\n",
      "|90141654|   tình chị duyên em|    UNKNOWN|        khúc côn cầu|    UNKNOWN|\n",
      "|90919545|          gọi tôi là|    UNKNOWN|  hoa gian tân nương|    UNKNOWN|\n",
      "|92481088|           penthouse|     Comedy|           penthouse|    V-DRAMA|\n",
      "|92481088|           penthouse|    V-DRAMA|           penthouse|    V-DRAMA|\n",
      "|92481088|           penthouse|     Comedy|           penthouse|     Comedy|\n",
      "|92481088|           penthouse|    V-DRAMA|           penthouse|     Comedy|\n",
      "|93302448|       thực tập sinh|    UNKNOWN|               trống|    UNKNOWN|\n",
      "|93714458|     sắc đẹp ẩn giấu|    UNKNOWN|         cô nàng béo|    UNKNOWN|\n",
      "|95370791|nỗi vương vấn của...|    UNKNOWN|                BAKI|     Comedy|\n",
      "|99606367|    người thầy y đức|    UNKNOWN|     minh lan truyện|    UNKNOWN|\n",
      "|99741462|    lưỡng bất nghỉ 2|    UNKNOWN|    vẻ đẹp đích thực|    UNKNOWN|\n",
      "|42782784|       bác sĩ yo han|    UNKNOWN|               trống|    UNKNOWN|\n",
      "|49444661|    han tinh oán han|    UNKNOWN|van mai tuoi 17 v...|    UNKNOWN|\n",
      "| 5302330|               trống|    UNKNOWN|             NGOAI V|    UNKNOWN|\n",
      "| 7457312|            nội gián|    UNKNOWN|             băn tia|    UNKNOWN|\n",
      "|91602888| khát vọng giàu sang|    UNKNOWN|                VE D|     Horror|\n",
      "|97308095|               trống|    UNKNOWN|               trống|    UNKNOWN|\n",
      "|  016508|            Bigfoot |    UNKNOWN|    taxi, em tên gì?|    UNKNOWN|\n",
      "+--------+--------------------+-----------+--------------------+-----------+\n",
      "only showing top 20 rows\n",
      "\n"
     ]
    }
   ],
   "source": [
    "data_result = data_p_t6.join(data_p_t7, on='User_ID', how='inner')\n",
    "data_result = data_result.cache()\n",
    "data_result.show()"
   ]
  },
  {
   "cell_type": "code",
   "execution_count": 589,
   "metadata": {},
   "outputs": [
    {
     "name": "stdout",
     "output_type": "stream",
     "text": [
      "+--------+--------------------+-----------+--------------------+-----------+-------------+\n",
      "| User_ID|      Most_Search_T6|Category_T6|      Most_Search_T7|Category_T7|Trending_Type|\n",
      "+--------+--------------------+-----------+--------------------+-----------+-------------+\n",
      "|41752947|               trống|    UNKNOWN|               trống|    UNKNOWN|    Unchanged|\n",
      "| 7316968|  chung kết việt nam|    UNKNOWN|sợi dây chuyền đị...|    UNKNOWN|    Unchanged|\n",
      "|90141654|   tình chị duyên em|    UNKNOWN|        khúc côn cầu|    UNKNOWN|    Unchanged|\n",
      "|90919545|          gọi tôi là|    UNKNOWN|  hoa gian tân nương|    UNKNOWN|    Unchanged|\n",
      "|92481088|           penthouse|     Comedy|           penthouse|    V-DRAMA|      Changed|\n",
      "|92481088|           penthouse|    V-DRAMA|           penthouse|    V-DRAMA|    Unchanged|\n",
      "|92481088|           penthouse|     Comedy|           penthouse|     Comedy|    Unchanged|\n",
      "|92481088|           penthouse|    V-DRAMA|           penthouse|     Comedy|      Changed|\n",
      "|93302448|       thực tập sinh|    UNKNOWN|               trống|    UNKNOWN|    Unchanged|\n",
      "|93714458|     sắc đẹp ẩn giấu|    UNKNOWN|         cô nàng béo|    UNKNOWN|    Unchanged|\n",
      "|95370791|nỗi vương vấn của...|    UNKNOWN|                BAKI|     Comedy|      Changed|\n",
      "|99606367|    người thầy y đức|    UNKNOWN|     minh lan truyện|    UNKNOWN|    Unchanged|\n",
      "|99741462|    lưỡng bất nghỉ 2|    UNKNOWN|    vẻ đẹp đích thực|    UNKNOWN|    Unchanged|\n",
      "|42782784|       bác sĩ yo han|    UNKNOWN|               trống|    UNKNOWN|    Unchanged|\n",
      "|49444661|    han tinh oán han|    UNKNOWN|van mai tuoi 17 v...|    UNKNOWN|    Unchanged|\n",
      "| 5302330|               trống|    UNKNOWN|             NGOAI V|    UNKNOWN|    Unchanged|\n",
      "| 7457312|            nội gián|    UNKNOWN|             băn tia|    UNKNOWN|    Unchanged|\n",
      "|91602888| khát vọng giàu sang|    UNKNOWN|                VE D|     Horror|      Changed|\n",
      "|97308095|               trống|    UNKNOWN|               trống|    UNKNOWN|    Unchanged|\n",
      "|  016508|            Bigfoot |    UNKNOWN|    taxi, em tên gì?|    UNKNOWN|    Unchanged|\n",
      "+--------+--------------------+-----------+--------------------+-----------+-------------+\n",
      "only showing top 20 rows\n",
      "\n"
     ]
    }
   ],
   "source": [
    "data_result = data_result.withColumn(\"Trending_Type\", \n",
    "    when(\n",
    "        col(\"Category_T6\") == col(\"Category_T7\"), \"Unchanged\"\n",
    "    ).otherwise(\"Changed\")\n",
    ")\n",
    "data_result.show()"
   ]
  },
  {
   "cell_type": "code",
   "execution_count": 592,
   "metadata": {},
   "outputs": [
    {
     "name": "stdout",
     "output_type": "stream",
     "text": [
      "+--------+--------------------+-----------+--------------------+-----------+-------------+----------------+\n",
      "| User_ID|      Most_Search_T6|Category_T6|      Most_Search_T7|Category_T7|Trending_Type|        Previous|\n",
      "+--------+--------------------+-----------+--------------------+-----------+-------------+----------------+\n",
      "|41752947|               trống|    UNKNOWN|               trống|    UNKNOWN|    Unchanged|       Unchanged|\n",
      "| 7316968|  chung kết việt nam|    UNKNOWN|sợi dây chuyền đị...|    UNKNOWN|    Unchanged|       Unchanged|\n",
      "|90141654|   tình chị duyên em|    UNKNOWN|        khúc côn cầu|    UNKNOWN|    Unchanged|       Unchanged|\n",
      "|90919545|          gọi tôi là|    UNKNOWN|  hoa gian tân nương|    UNKNOWN|    Unchanged|       Unchanged|\n",
      "|92481088|           penthouse|     Comedy|           penthouse|    V-DRAMA|      Changed|Comedy - V-DRAMA|\n",
      "|92481088|           penthouse|    V-DRAMA|           penthouse|    V-DRAMA|    Unchanged|       Unchanged|\n",
      "|92481088|           penthouse|     Comedy|           penthouse|     Comedy|    Unchanged|       Unchanged|\n",
      "|92481088|           penthouse|    V-DRAMA|           penthouse|     Comedy|      Changed|V-DRAMA - Comedy|\n",
      "|93302448|       thực tập sinh|    UNKNOWN|               trống|    UNKNOWN|    Unchanged|       Unchanged|\n",
      "|93714458|     sắc đẹp ẩn giấu|    UNKNOWN|         cô nàng béo|    UNKNOWN|    Unchanged|       Unchanged|\n",
      "|95370791|nỗi vương vấn của...|    UNKNOWN|                BAKI|     Comedy|      Changed|UNKNOWN - Comedy|\n",
      "|99606367|    người thầy y đức|    UNKNOWN|     minh lan truyện|    UNKNOWN|    Unchanged|       Unchanged|\n",
      "|99741462|    lưỡng bất nghỉ 2|    UNKNOWN|    vẻ đẹp đích thực|    UNKNOWN|    Unchanged|       Unchanged|\n",
      "|42782784|       bác sĩ yo han|    UNKNOWN|               trống|    UNKNOWN|    Unchanged|       Unchanged|\n",
      "|49444661|    han tinh oán han|    UNKNOWN|van mai tuoi 17 v...|    UNKNOWN|    Unchanged|       Unchanged|\n",
      "| 5302330|               trống|    UNKNOWN|             NGOAI V|    UNKNOWN|    Unchanged|       Unchanged|\n",
      "| 7457312|            nội gián|    UNKNOWN|             băn tia|    UNKNOWN|    Unchanged|       Unchanged|\n",
      "|91602888| khát vọng giàu sang|    UNKNOWN|                VE D|     Horror|      Changed|UNKNOWN - Horror|\n",
      "|97308095|               trống|    UNKNOWN|               trống|    UNKNOWN|    Unchanged|       Unchanged|\n",
      "|  016508|            Bigfoot |    UNKNOWN|    taxi, em tên gì?|    UNKNOWN|    Unchanged|       Unchanged|\n",
      "+--------+--------------------+-----------+--------------------+-----------+-------------+----------------+\n",
      "only showing top 20 rows\n",
      "\n"
     ]
    }
   ],
   "source": [
    "data_result = data_result.withColumn(\"Previous\", \n",
    "    when(\n",
    "        col(\"Category_T6\") == col(\"Category_T7\"), \"Unchanged\"\n",
    "    ).otherwise(concat_ws(\" - \",col(\"Category_T6\"), col(\"Category_T7\")))\n",
    ")\n",
    "data_result.show()"
   ]
  }
 ],
 "metadata": {
  "kernelspec": {
   "display_name": "base",
   "language": "python",
   "name": "python3"
  },
  "language_info": {
   "codemirror_mode": {
    "name": "ipython",
    "version": 3
   },
   "file_extension": ".py",
   "mimetype": "text/x-python",
   "name": "python",
   "nbconvert_exporter": "python",
   "pygments_lexer": "ipython3",
   "version": "3.11.5"
  }
 },
 "nbformat": 4,
 "nbformat_minor": 2
}
